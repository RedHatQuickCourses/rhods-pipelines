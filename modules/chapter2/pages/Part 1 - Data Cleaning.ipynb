{
 "cells": [
  {
   "cell_type": "code",
   "execution_count": 1,
   "metadata": {
    "papermill": {
     "duration": 8.307268,
     "end_time": "2020-06-23T18:39:30.075908",
     "exception": false,
     "start_time": "2020-06-23T18:39:21.768640",
     "status": "completed"
    },
    "tags": []
   },
   "outputs": [],
   "source": [
    "!pip3 install PyGithub pandas > /dev/null 2>&1\n"
   ]
  },
  {
   "cell_type": "code",
   "execution_count": 2,
   "metadata": {
    "papermill": {
     "duration": 1.643517,
     "end_time": "2020-06-23T18:39:31.767117",
     "exception": false,
     "start_time": "2020-06-23T18:39:30.123600",
     "status": "completed"
    },
    "tags": []
   },
   "outputs": [],
   "source": [
    "# Define required imports\n",
    "import numpy as np\n",
    "import pandas as pd\n",
    "import re\n",
    "import sys\n",
    "\n",
    "# These set pandas max column and row display in the notebook\n",
    "pd.set_option('display.max_columns', 50)\n",
    "pd.set_option('display.max_rows', 50)"
   ]
  },
  {
   "cell_type": "markdown",
   "metadata": {
    "papermill": {
     "duration": 0.041501,
     "end_time": "2020-06-23T18:39:31.845060",
     "exception": false,
     "start_time": "2020-06-23T18:39:31.803559",
     "status": "completed"
    },
    "tags": []
   },
   "source": [
    "<a id=\"cell1\"></a>\n",
    "\n",
    "### 1. Read the Raw Data\n",
    "\n",
    "We start by reading in the raw dataset, displaying the first few rows of the dataframe, and taking a look at the columns and column types present."
   ]
  },
  {
   "cell_type": "code",
   "execution_count": null,
   "metadata": {
    "papermill": {
     "duration": 12.521019,
     "end_time": "2020-06-23T18:39:44.415882",
     "exception": false,
     "start_time": "2020-06-23T18:39:31.894863",
     "status": "completed"
    },
    "tags": []
   },
   "outputs": [],
   "source": [
    "raw_data = pd.read_csv('jfk_weather.csv',\n",
    "                       parse_dates=['DATE'])\n",
    "raw_data.head()"
   ]
  },
  {
   "cell_type": "code",
   "execution_count": null,
   "metadata": {
    "papermill": {
     "duration": 0.111785,
     "end_time": "2020-06-23T18:39:44.607034",
     "exception": false,
     "start_time": "2020-06-23T18:39:44.495249",
     "status": "completed"
    },
    "tags": []
   },
   "outputs": [],
   "source": [
    "raw_data.dtypes"
   ]
  },
  {
   "cell_type": "markdown",
   "metadata": {
    "papermill": {
     "duration": 0.05262,
     "end_time": "2020-06-23T18:39:44.711391",
     "exception": false,
     "start_time": "2020-06-23T18:39:44.658771",
     "status": "completed"
    },
    "tags": []
   },
   "source": [
    "<a id=\"cell2\"></a>\n",
    "\n",
    "### 2. Clean the Data\n",
    "\n",
    "As you can see above, there are a lot of fields which are non-numerical - usually these will be fields that contain text or categorical data, e.g. `HOURLYSKYCONDITIONS`.\n"
   ]
  },
  {
   "cell_type": "code",
   "execution_count": 5,
   "metadata": {
    "papermill": {
     "duration": 0.310215,
     "end_time": "2020-06-23T18:39:45.071537",
     "exception": false,
     "start_time": "2020-06-23T18:39:44.761322",
     "status": "completed"
    },
    "tags": []
   },
   "outputs": [
    {
     "data": {
      "text/html": [
       "<div>\n",
       "<style scoped>\n",
       "    .dataframe tbody tr th:only-of-type {\n",
       "        vertical-align: middle;\n",
       "    }\n",
       "\n",
       "    .dataframe tbody tr th {\n",
       "        vertical-align: top;\n",
       "    }\n",
       "\n",
       "    .dataframe thead th {\n",
       "        text-align: right;\n",
       "    }\n",
       "</style>\n",
       "<table border=\"1\" class=\"dataframe\">\n",
       "  <thead>\n",
       "    <tr style=\"text-align: right;\">\n",
       "      <th></th>\n",
       "      <th>HOURLYVISIBILITY</th>\n",
       "      <th>HOURLYDRYBULBTEMPF</th>\n",
       "      <th>HOURLYWETBULBTEMPF</th>\n",
       "      <th>HOURLYDewPointTempF</th>\n",
       "      <th>HOURLYRelativeHumidity</th>\n",
       "      <th>HOURLYWindSpeed</th>\n",
       "      <th>HOURLYWindDirection</th>\n",
       "      <th>HOURLYStationPressure</th>\n",
       "      <th>HOURLYPrecip</th>\n",
       "      <th>HOURLYAltimeterSetting</th>\n",
       "      <th>HOURLYPressureTendency</th>\n",
       "    </tr>\n",
       "    <tr>\n",
       "      <th>DATE</th>\n",
       "      <th></th>\n",
       "      <th></th>\n",
       "      <th></th>\n",
       "      <th></th>\n",
       "      <th></th>\n",
       "      <th></th>\n",
       "      <th></th>\n",
       "      <th></th>\n",
       "      <th></th>\n",
       "      <th></th>\n",
       "      <th></th>\n",
       "    </tr>\n",
       "  </thead>\n",
       "  <tbody>\n",
       "    <tr>\n",
       "      <th>2010-01-01 00:51:00</th>\n",
       "      <td>6.00</td>\n",
       "      <td>33.0</td>\n",
       "      <td>32.0</td>\n",
       "      <td>31</td>\n",
       "      <td>92.0</td>\n",
       "      <td>0.0</td>\n",
       "      <td>000</td>\n",
       "      <td>29.97</td>\n",
       "      <td>0.01</td>\n",
       "      <td>29.99</td>\n",
       "      <td>8.0</td>\n",
       "    </tr>\n",
       "    <tr>\n",
       "      <th>2010-01-01 01:00:00</th>\n",
       "      <td>5.59</td>\n",
       "      <td>33.0</td>\n",
       "      <td>32.0</td>\n",
       "      <td>31</td>\n",
       "      <td>92.0</td>\n",
       "      <td>0.0</td>\n",
       "      <td>000</td>\n",
       "      <td>29.96</td>\n",
       "      <td>NaN</td>\n",
       "      <td>NaN</td>\n",
       "      <td>8.0</td>\n",
       "    </tr>\n",
       "    <tr>\n",
       "      <th>2010-01-01 01:51:00</th>\n",
       "      <td>6.00</td>\n",
       "      <td>33.0</td>\n",
       "      <td>33.0</td>\n",
       "      <td>32</td>\n",
       "      <td>96.0</td>\n",
       "      <td>0.0</td>\n",
       "      <td>000</td>\n",
       "      <td>29.97</td>\n",
       "      <td>0.02</td>\n",
       "      <td>29.99</td>\n",
       "      <td>NaN</td>\n",
       "    </tr>\n",
       "    <tr>\n",
       "      <th>2010-01-01 02:03:00</th>\n",
       "      <td>6.00</td>\n",
       "      <td>34.0</td>\n",
       "      <td>33.0</td>\n",
       "      <td>32</td>\n",
       "      <td>93.0</td>\n",
       "      <td>0.0</td>\n",
       "      <td>000</td>\n",
       "      <td>29.97</td>\n",
       "      <td>T</td>\n",
       "      <td>29.99</td>\n",
       "      <td>NaN</td>\n",
       "    </tr>\n",
       "    <tr>\n",
       "      <th>2010-01-01 02:28:00</th>\n",
       "      <td>5.00</td>\n",
       "      <td>34.0</td>\n",
       "      <td>33.0</td>\n",
       "      <td>32</td>\n",
       "      <td>93.0</td>\n",
       "      <td>0.0</td>\n",
       "      <td>000</td>\n",
       "      <td>29.97</td>\n",
       "      <td>T</td>\n",
       "      <td>29.99</td>\n",
       "      <td>NaN</td>\n",
       "    </tr>\n",
       "  </tbody>\n",
       "</table>\n",
       "</div>"
      ],
      "text/plain": [
       "                    HOURLYVISIBILITY HOURLYDRYBULBTEMPF HOURLYWETBULBTEMPF  \\\n",
       "DATE                                                                         \n",
       "2010-01-01 00:51:00             6.00               33.0               32.0   \n",
       "2010-01-01 01:00:00             5.59               33.0               32.0   \n",
       "2010-01-01 01:51:00             6.00               33.0               33.0   \n",
       "2010-01-01 02:03:00             6.00               34.0               33.0   \n",
       "2010-01-01 02:28:00             5.00               34.0               33.0   \n",
       "\n",
       "                    HOURLYDewPointTempF HOURLYRelativeHumidity  \\\n",
       "DATE                                                             \n",
       "2010-01-01 00:51:00                  31                   92.0   \n",
       "2010-01-01 01:00:00                  31                   92.0   \n",
       "2010-01-01 01:51:00                  32                   96.0   \n",
       "2010-01-01 02:03:00                  32                   93.0   \n",
       "2010-01-01 02:28:00                  32                   93.0   \n",
       "\n",
       "                    HOURLYWindSpeed HOURLYWindDirection HOURLYStationPressure  \\\n",
       "DATE                                                                            \n",
       "2010-01-01 00:51:00             0.0                 000                 29.97   \n",
       "2010-01-01 01:00:00             0.0                 000                 29.96   \n",
       "2010-01-01 01:51:00             0.0                 000                 29.97   \n",
       "2010-01-01 02:03:00             0.0                 000                 29.97   \n",
       "2010-01-01 02:28:00             0.0                 000                 29.97   \n",
       "\n",
       "                    HOURLYPrecip HOURLYAltimeterSetting  \\\n",
       "DATE                                                      \n",
       "2010-01-01 00:51:00         0.01                  29.99   \n",
       "2010-01-01 01:00:00          NaN                    NaN   \n",
       "2010-01-01 01:51:00         0.02                  29.99   \n",
       "2010-01-01 02:03:00            T                  29.99   \n",
       "2010-01-01 02:28:00            T                  29.99   \n",
       "\n",
       "                     HOURLYPressureTendency  \n",
       "DATE                                         \n",
       "2010-01-01 00:51:00                     8.0  \n",
       "2010-01-01 01:00:00                     8.0  \n",
       "2010-01-01 01:51:00                     NaN  \n",
       "2010-01-01 02:03:00                     NaN  \n",
       "2010-01-01 02:28:00                     NaN  "
      ]
     },
     "execution_count": 5,
     "metadata": {},
     "output_type": "execute_result"
    }
   ],
   "source": [
    "# Choose what columns to import from raw data\n",
    "column_subset = [\n",
    "    'DATE',\n",
    "    'HOURLYVISIBILITY',\n",
    "    'HOURLYDRYBULBTEMPF',\n",
    "    'HOURLYWETBULBTEMPF',\n",
    "    'HOURLYDewPointTempF',\n",
    "    'HOURLYRelativeHumidity',\n",
    "    'HOURLYWindSpeed',\n",
    "    'HOURLYWindDirection',\n",
    "    'HOURLYStationPressure',\n",
    "    'HOURLYPrecip',\n",
    "    'HOURLYAltimeterSetting',\n",
    "    'HOURLYPressureTendency'\n",
    "]\n",
    "\n",
    "# Filter dataset to relevant columns\n",
    "hourly_data = raw_data[column_subset]\n",
    "# Set date index\n",
    "hourly_data = hourly_data.set_index(pd.DatetimeIndex(hourly_data['DATE']))\n",
    "hourly_data.drop(['DATE'], axis=1, inplace=True)\n",
    "hourly_data.replace(to_replace='*', value=np.nan, inplace=True)\n",
    "hourly_data.head()"
   ]
  },
  {
   "cell_type": "code",
   "execution_count": 6,
   "metadata": {
    "papermill": {
     "duration": 0.075418,
     "end_time": "2020-06-23T18:39:45.193224",
     "exception": false,
     "start_time": "2020-06-23T18:39:45.117806",
     "status": "completed"
    },
    "tags": []
   },
   "outputs": [
    {
     "data": {
      "text/plain": [
       "HOURLYVISIBILITY           object\n",
       "HOURLYDRYBULBTEMPF         object\n",
       "HOURLYWETBULBTEMPF         object\n",
       "HOURLYDewPointTempF        object\n",
       "HOURLYRelativeHumidity     object\n",
       "HOURLYWindSpeed            object\n",
       "HOURLYWindDirection        object\n",
       "HOURLYStationPressure      object\n",
       "HOURLYPrecip               object\n",
       "HOURLYAltimeterSetting     object\n",
       "HOURLYPressureTendency    float64\n",
       "dtype: object"
      ]
     },
     "execution_count": 6,
     "metadata": {},
     "output_type": "execute_result"
    }
   ],
   "source": [
    "hourly_data.dtypes"
   ]
  },
  {
   "cell_type": "code",
   "execution_count": null,
   "metadata": {
    "papermill": {
     "duration": 0.075263,
     "end_time": "2020-06-23T18:39:45.412578",
     "exception": false,
     "start_time": "2020-06-23T18:39:45.337315",
     "status": "completed"
    },
    "tags": []
   },
   "outputs": [],
   "source": [
    "hourly_data['HOURLYPrecip'].unique()"
   ]
  },
  {
   "cell_type": "code",
   "execution_count": 8,
   "metadata": {
    "papermill": {
     "duration": 0.068251,
     "end_time": "2020-06-23T18:39:45.642901",
     "exception": false,
     "start_time": "2020-06-23T18:39:45.574650",
     "status": "completed"
    },
    "tags": []
   },
   "outputs": [],
   "source": [
    "# Fix imported data\n",
    "hourly_data['HOURLYPrecip'].replace(to_replace='T', value='0.00', inplace=True)\n",
    "hourly_data['HOURLYPrecip'].replace('0.020.01s', np.nan, inplace=True)"
   ]
  },
  {
   "cell_type": "code",
   "execution_count": 9,
   "metadata": {
    "papermill": {
     "duration": 2.690677,
     "end_time": "2020-06-23T18:39:48.523767",
     "exception": false,
     "start_time": "2020-06-23T18:39:45.833090",
     "status": "completed"
    },
    "tags": []
   },
   "outputs": [],
   "source": [
    "# Set of columns to convert\n",
    "messy_columns = column_subset[1:]\n",
    "\n",
    "# Convert columns to float32 datatype\n",
    "for i in messy_columns:\n",
    "    hourly_data[i] = hourly_data[i].apply(\n",
    "        lambda x: re.sub('[^0-9,.-]', '', x)\n",
    "        if type(x) == str else x).replace('', np.nan).astype(('float32'))"
   ]
  },
  {
   "cell_type": "code",
   "execution_count": null,
   "metadata": {
    "papermill": {
     "duration": 0.15388,
     "end_time": "2020-06-23T18:39:48.876939",
     "exception": false,
     "start_time": "2020-06-23T18:39:48.723059",
     "status": "completed"
    },
    "scrolled": true,
    "tags": []
   },
   "outputs": [],
   "source": [
    "print(hourly_data.info())\n",
    "print()\n",
    "hourly_data.head()"
   ]
  },
  {
   "cell_type": "code",
   "execution_count": 11,
   "metadata": {
    "papermill": {
     "duration": 0.348362,
     "end_time": "2020-06-23T18:39:49.415029",
     "exception": false,
     "start_time": "2020-06-23T18:39:49.066667",
     "status": "completed"
    },
    "tags": []
   },
   "outputs": [
    {
     "data": {
      "text/html": [
       "<div>\n",
       "<style scoped>\n",
       "    .dataframe tbody tr th:only-of-type {\n",
       "        vertical-align: middle;\n",
       "    }\n",
       "\n",
       "    .dataframe tbody tr th {\n",
       "        vertical-align: top;\n",
       "    }\n",
       "\n",
       "    .dataframe thead th {\n",
       "        text-align: right;\n",
       "    }\n",
       "</style>\n",
       "<table border=\"1\" class=\"dataframe\">\n",
       "  <thead>\n",
       "    <tr style=\"text-align: right;\">\n",
       "      <th></th>\n",
       "      <th>HOURLYVISIBILITY</th>\n",
       "      <th>HOURLYDRYBULBTEMPF</th>\n",
       "      <th>HOURLYWETBULBTEMPF</th>\n",
       "      <th>HOURLYDewPointTempF</th>\n",
       "      <th>HOURLYRelativeHumidity</th>\n",
       "      <th>HOURLYWindSpeed</th>\n",
       "      <th>HOURLYWindDirection</th>\n",
       "      <th>HOURLYStationPressure</th>\n",
       "      <th>HOURLYPrecip</th>\n",
       "      <th>HOURLYAltimeterSetting</th>\n",
       "      <th>HOURLYPressureTendency</th>\n",
       "    </tr>\n",
       "  </thead>\n",
       "  <tbody>\n",
       "    <tr>\n",
       "      <th>count</th>\n",
       "      <td>96464.000000</td>\n",
       "      <td>111403.000000</td>\n",
       "      <td>111245.000000</td>\n",
       "      <td>111395.000000</td>\n",
       "      <td>111395.000000</td>\n",
       "      <td>111358.000000</td>\n",
       "      <td>110444.000000</td>\n",
       "      <td>111256.000000</td>\n",
       "      <td>79762.000000</td>\n",
       "      <td>86878.000000</td>\n",
       "      <td>48038.000000</td>\n",
       "    </tr>\n",
       "    <tr>\n",
       "      <th>mean</th>\n",
       "      <td>8.758805</td>\n",
       "      <td>55.310612</td>\n",
       "      <td>49.703098</td>\n",
       "      <td>43.309196</td>\n",
       "      <td>67.132141</td>\n",
       "      <td>11.268045</td>\n",
       "      <td>192.511597</td>\n",
       "      <td>29.990641</td>\n",
       "      <td>0.007032</td>\n",
       "      <td>30.009533</td>\n",
       "      <td>4.388963</td>\n",
       "    </tr>\n",
       "    <tr>\n",
       "      <th>std</th>\n",
       "      <td>2.742651</td>\n",
       "      <td>17.169744</td>\n",
       "      <td>16.062113</td>\n",
       "      <td>19.357059</td>\n",
       "      <td>20.278572</td>\n",
       "      <td>6.175006</td>\n",
       "      <td>107.606514</td>\n",
       "      <td>0.238452</td>\n",
       "      <td>0.042636</td>\n",
       "      <td>0.239821</td>\n",
       "      <td>2.741795</td>\n",
       "    </tr>\n",
       "    <tr>\n",
       "      <th>min</th>\n",
       "      <td>0.000000</td>\n",
       "      <td>1.000000</td>\n",
       "      <td>-1.000000</td>\n",
       "      <td>-22.000000</td>\n",
       "      <td>8.000000</td>\n",
       "      <td>0.000000</td>\n",
       "      <td>0.000000</td>\n",
       "      <td>28.490000</td>\n",
       "      <td>0.000000</td>\n",
       "      <td>28.510000</td>\n",
       "      <td>0.000000</td>\n",
       "    </tr>\n",
       "    <tr>\n",
       "      <th>25%</th>\n",
       "      <td>9.940000</td>\n",
       "      <td>42.000000</td>\n",
       "      <td>37.000000</td>\n",
       "      <td>29.000000</td>\n",
       "      <td>51.000000</td>\n",
       "      <td>7.000000</td>\n",
       "      <td>110.000000</td>\n",
       "      <td>29.850000</td>\n",
       "      <td>0.000000</td>\n",
       "      <td>29.870001</td>\n",
       "      <td>2.000000</td>\n",
       "    </tr>\n",
       "    <tr>\n",
       "      <th>50%</th>\n",
       "      <td>10.000000</td>\n",
       "      <td>56.000000</td>\n",
       "      <td>50.000000</td>\n",
       "      <td>45.000000</td>\n",
       "      <td>69.000000</td>\n",
       "      <td>10.000000</td>\n",
       "      <td>200.000000</td>\n",
       "      <td>29.990000</td>\n",
       "      <td>0.000000</td>\n",
       "      <td>30.010000</td>\n",
       "      <td>5.000000</td>\n",
       "    </tr>\n",
       "    <tr>\n",
       "      <th>75%</th>\n",
       "      <td>10.000000</td>\n",
       "      <td>70.000000</td>\n",
       "      <td>64.000000</td>\n",
       "      <td>60.000000</td>\n",
       "      <td>85.000000</td>\n",
       "      <td>15.000000</td>\n",
       "      <td>280.000000</td>\n",
       "      <td>30.139999</td>\n",
       "      <td>0.000000</td>\n",
       "      <td>30.160000</td>\n",
       "      <td>7.000000</td>\n",
       "    </tr>\n",
       "    <tr>\n",
       "      <th>max</th>\n",
       "      <td>99.419998</td>\n",
       "      <td>102.000000</td>\n",
       "      <td>85.000000</td>\n",
       "      <td>84.000000</td>\n",
       "      <td>100.000000</td>\n",
       "      <td>53.000000</td>\n",
       "      <td>360.000000</td>\n",
       "      <td>30.830000</td>\n",
       "      <td>2.410000</td>\n",
       "      <td>30.850000</td>\n",
       "      <td>8.000000</td>\n",
       "    </tr>\n",
       "  </tbody>\n",
       "</table>\n",
       "</div>"
      ],
      "text/plain": [
       "       HOURLYVISIBILITY  HOURLYDRYBULBTEMPF  HOURLYWETBULBTEMPF  \\\n",
       "count      96464.000000       111403.000000       111245.000000   \n",
       "mean           8.758805           55.310612           49.703098   \n",
       "std            2.742651           17.169744           16.062113   \n",
       "min            0.000000            1.000000           -1.000000   \n",
       "25%            9.940000           42.000000           37.000000   \n",
       "50%           10.000000           56.000000           50.000000   \n",
       "75%           10.000000           70.000000           64.000000   \n",
       "max           99.419998          102.000000           85.000000   \n",
       "\n",
       "       HOURLYDewPointTempF  HOURLYRelativeHumidity  HOURLYWindSpeed  \\\n",
       "count        111395.000000           111395.000000    111358.000000   \n",
       "mean             43.309196               67.132141        11.268045   \n",
       "std              19.357059               20.278572         6.175006   \n",
       "min             -22.000000                8.000000         0.000000   \n",
       "25%              29.000000               51.000000         7.000000   \n",
       "50%              45.000000               69.000000        10.000000   \n",
       "75%              60.000000               85.000000        15.000000   \n",
       "max              84.000000              100.000000        53.000000   \n",
       "\n",
       "       HOURLYWindDirection  HOURLYStationPressure  HOURLYPrecip  \\\n",
       "count        110444.000000          111256.000000  79762.000000   \n",
       "mean            192.511597              29.990641      0.007032   \n",
       "std             107.606514               0.238452      0.042636   \n",
       "min               0.000000              28.490000      0.000000   \n",
       "25%             110.000000              29.850000      0.000000   \n",
       "50%             200.000000              29.990000      0.000000   \n",
       "75%             280.000000              30.139999      0.000000   \n",
       "max             360.000000              30.830000      2.410000   \n",
       "\n",
       "       HOURLYAltimeterSetting  HOURLYPressureTendency  \n",
       "count            86878.000000            48038.000000  \n",
       "mean                30.009533                4.388963  \n",
       "std                  0.239821                2.741795  \n",
       "min                 28.510000                0.000000  \n",
       "25%                 29.870001                2.000000  \n",
       "50%                 30.010000                5.000000  \n",
       "75%                 30.160000                7.000000  \n",
       "max                 30.850000                8.000000  "
      ]
     },
     "execution_count": 11,
     "metadata": {},
     "output_type": "execute_result"
    }
   ],
   "source": [
    "# Generate the summary statistics for each column\n",
    "hourly_data.describe()"
   ]
  },
  {
   "cell_type": "code",
   "execution_count": 12,
   "metadata": {
    "papermill": {
     "duration": 0.112969,
     "end_time": "2020-06-23T18:39:49.719340",
     "exception": false,
     "start_time": "2020-06-23T18:39:49.606371",
     "status": "completed"
    },
    "tags": []
   },
   "outputs": [
    {
     "name": "stdout",
     "output_type": "stream",
     "text": [
      "Hourly Pressure Tendency should be between 0 and 8: True\n"
     ]
    }
   ],
   "source": [
    "# Check if categorical variable HOURLYPressureTendency ever has a non-integer\n",
    "# entry outside the bounds of 0-8\n",
    "cond =\\\n",
    "    len(hourly_data[~hourly_data['HOURLYPressureTendency'].isin(\n",
    "        list(range(0, 9)) + [np.nan])])\n",
    "\n",
    "print('Hourly Pressure Tendency should be between 0 and 8: {}'\n",
    "      .format(cond == 0))"
   ]
  },
  {
   "cell_type": "code",
   "execution_count": 13,
   "metadata": {
    "papermill": {
     "duration": 0.188961,
     "end_time": "2020-06-23T18:39:50.114669",
     "exception": false,
     "start_time": "2020-06-23T18:39:49.925708",
     "status": "completed"
    },
    "tags": []
   },
   "outputs": [
    {
     "data": {
      "text/html": [
       "<div>\n",
       "<style scoped>\n",
       "    .dataframe tbody tr th:only-of-type {\n",
       "        vertical-align: middle;\n",
       "    }\n",
       "\n",
       "    .dataframe tbody tr th {\n",
       "        vertical-align: top;\n",
       "    }\n",
       "\n",
       "    .dataframe thead th {\n",
       "        text-align: right;\n",
       "    }\n",
       "</style>\n",
       "<table border=\"1\" class=\"dataframe\">\n",
       "  <thead>\n",
       "    <tr style=\"text-align: right;\">\n",
       "      <th></th>\n",
       "      <th>HOURLYVISIBILITY</th>\n",
       "      <th>HOURLYDRYBULBTEMPF</th>\n",
       "      <th>HOURLYWETBULBTEMPF</th>\n",
       "      <th>HOURLYDewPointTempF</th>\n",
       "      <th>HOURLYRelativeHumidity</th>\n",
       "      <th>HOURLYWindSpeed</th>\n",
       "      <th>HOURLYWindDirection</th>\n",
       "      <th>HOURLYStationPressure</th>\n",
       "      <th>HOURLYPrecip</th>\n",
       "      <th>HOURLYAltimeterSetting</th>\n",
       "      <th>HOURLYPressureTendency</th>\n",
       "    </tr>\n",
       "    <tr>\n",
       "      <th>DATE</th>\n",
       "      <th></th>\n",
       "      <th></th>\n",
       "      <th></th>\n",
       "      <th></th>\n",
       "      <th></th>\n",
       "      <th></th>\n",
       "      <th></th>\n",
       "      <th></th>\n",
       "      <th></th>\n",
       "      <th></th>\n",
       "      <th></th>\n",
       "    </tr>\n",
       "  </thead>\n",
       "  <tbody>\n",
       "    <tr>\n",
       "      <th>2011-10-16 11:51:00</th>\n",
       "      <td>14.000000</td>\n",
       "      <td>68.0</td>\n",
       "      <td>53.0</td>\n",
       "      <td>37.0</td>\n",
       "      <td>33.0</td>\n",
       "      <td>16.0</td>\n",
       "      <td>250.0</td>\n",
       "      <td>29.85</td>\n",
       "      <td>NaN</td>\n",
       "      <td>29.870001</td>\n",
       "      <td>NaN</td>\n",
       "    </tr>\n",
       "    <tr>\n",
       "      <th>2015-06-21 17:45:00</th>\n",
       "      <td>99.419998</td>\n",
       "      <td>79.0</td>\n",
       "      <td>72.0</td>\n",
       "      <td>68.0</td>\n",
       "      <td>70.0</td>\n",
       "      <td>37.0</td>\n",
       "      <td>310.0</td>\n",
       "      <td>29.74</td>\n",
       "      <td>0.0</td>\n",
       "      <td>29.760000</td>\n",
       "      <td>NaN</td>\n",
       "    </tr>\n",
       "  </tbody>\n",
       "</table>\n",
       "</div>"
      ],
      "text/plain": [
       "                     HOURLYVISIBILITY  HOURLYDRYBULBTEMPF  HOURLYWETBULBTEMPF  \\\n",
       "DATE                                                                            \n",
       "2011-10-16 11:51:00         14.000000                68.0                53.0   \n",
       "2015-06-21 17:45:00         99.419998                79.0                72.0   \n",
       "\n",
       "                     HOURLYDewPointTempF  HOURLYRelativeHumidity  \\\n",
       "DATE                                                               \n",
       "2011-10-16 11:51:00                 37.0                    33.0   \n",
       "2015-06-21 17:45:00                 68.0                    70.0   \n",
       "\n",
       "                     HOURLYWindSpeed  HOURLYWindDirection  \\\n",
       "DATE                                                        \n",
       "2011-10-16 11:51:00             16.0                250.0   \n",
       "2015-06-21 17:45:00             37.0                310.0   \n",
       "\n",
       "                     HOURLYStationPressure  HOURLYPrecip  \\\n",
       "DATE                                                       \n",
       "2011-10-16 11:51:00                  29.85           NaN   \n",
       "2015-06-21 17:45:00                  29.74           0.0   \n",
       "\n",
       "                     HOURLYAltimeterSetting  HOURLYPressureTendency  \n",
       "DATE                                                                 \n",
       "2011-10-16 11:51:00               29.870001                     NaN  \n",
       "2015-06-21 17:45:00               29.760000                     NaN  "
      ]
     },
     "execution_count": 13,
     "metadata": {},
     "output_type": "execute_result"
    }
   ],
   "source": [
    "# Hourly Visibility should be between 0 and 10\n",
    "hourly_data[(hourly_data['HOURLYVISIBILITY'] < 0) | (hourly_data['HOURLYVISIBILITY'] > 10)]"
   ]
  },
  {
   "cell_type": "code",
   "execution_count": 14,
   "metadata": {
    "papermill": {
     "duration": 0.106781,
     "end_time": "2020-06-23T18:39:50.494873",
     "exception": false,
     "start_time": "2020-06-23T18:39:50.388092",
     "status": "completed"
    },
    "tags": []
   },
   "outputs": [
    {
     "name": "stdout",
     "output_type": "stream",
     "text": [
      "Hourly Visibility should be between 0 and 10: True\n"
     ]
    }
   ],
   "source": [
    "# Replace any hourly visibility figure outside these bounds with nan\n",
    "hourly_data.loc[hourly_data['HOURLYVISIBILITY'] > 10, 'HOURLYVISIBILITY'] = np.nan\n",
    "\n",
    "# Hourly Visibility should be between 0 and 10\n",
    "cond = len(hourly_data[(hourly_data['HOURLYVISIBILITY'] < 0) | (hourly_data['HOURLYVISIBILITY'] > 10)])\n",
    "\n",
    "print('Hourly Visibility should be between 0 and 10: {}'.format(cond == 0))"
   ]
  },
  {
   "cell_type": "code",
   "execution_count": 15,
   "metadata": {
    "papermill": {
     "duration": 0.135424,
     "end_time": "2020-06-23T18:39:50.813078",
     "exception": false,
     "start_time": "2020-06-23T18:39:50.677654",
     "status": "completed"
    },
    "tags": []
   },
   "outputs": [
    {
     "name": "stdout",
     "output_type": "stream",
     "text": [
      "Date index contains no duplicate entries: True\n"
     ]
    }
   ],
   "source": [
    "cond = len(hourly_data[hourly_data.index.duplicated()].sort_index())\n",
    "print('Date index contains no duplicate entries: {}'.format(cond == 0))"
   ]
  },
  {
   "cell_type": "code",
   "execution_count": 16,
   "metadata": {
    "papermill": {
     "duration": 0.119654,
     "end_time": "2020-06-23T18:39:51.012609",
     "exception": false,
     "start_time": "2020-06-23T18:39:50.892955",
     "status": "completed"
    },
    "tags": []
   },
   "outputs": [
    {
     "name": "stdout",
     "output_type": "stream",
     "text": [
      "Date index is strictly increasing: True\n"
     ]
    }
   ],
   "source": [
    "# Make sure time index is sorted and increasing\n",
    "print('Date index is strictly increasing: {}'\n",
    "      .format(hourly_data.index.is_monotonic_increasing))"
   ]
  },
  {
   "cell_type": "code",
   "execution_count": 17,
   "metadata": {
    "papermill": {
     "duration": 0.215191,
     "end_time": "2020-06-23T18:39:51.541396",
     "exception": false,
     "start_time": "2020-06-23T18:39:51.326205",
     "status": "completed"
    },
    "tags": []
   },
   "outputs": [],
   "source": [
    "# Resample (downsample) to hourly rows (we're shifting everything up by 9 minutes!)\n",
    "hourly_data = hourly_data.resample('60min').last().shift(periods=1)  # noqa Note: use resample('60min', base=51) to resample on the 51st of every hour"
   ]
  },
  {
   "cell_type": "code",
   "execution_count": 18,
   "metadata": {
    "papermill": {
     "duration": 0.241565,
     "end_time": "2020-06-23T18:39:52.094112",
     "exception": false,
     "start_time": "2020-06-23T18:39:51.852547",
     "status": "completed"
    },
    "tags": []
   },
   "outputs": [],
   "source": [
    "hourly_data['HOURLYPressureTendency'] =\\\n",
    "    hourly_data['HOURLYPressureTendency'].fillna(method='ffill')  # fill with last valid observation\n",
    "hourly_data = hourly_data.interpolate(method='linear')  # interpolate missing values\n",
    "hourly_data.drop(hourly_data.index[0], inplace=True)  # drop first row"
   ]
  },
  {
   "cell_type": "code",
   "execution_count": 19,
   "metadata": {
    "papermill": {
     "duration": 0.184815,
     "end_time": "2020-06-23T18:39:52.363119",
     "exception": false,
     "start_time": "2020-06-23T18:39:52.178304",
     "status": "completed"
    },
    "tags": []
   },
   "outputs": [
    {
     "name": "stdout",
     "output_type": "stream",
     "text": [
      "<class 'pandas.core.frame.DataFrame'>\n",
      "DatetimeIndex: 75119 entries, 2010-01-01 01:00:00 to 2018-07-27 23:00:00\n",
      "Freq: 60T\n",
      "Data columns (total 11 columns):\n",
      " #   Column                  Non-Null Count  Dtype  \n",
      "---  ------                  --------------  -----  \n",
      " 0   HOURLYVISIBILITY        75119 non-null  float32\n",
      " 1   HOURLYDRYBULBTEMPF      75119 non-null  float32\n",
      " 2   HOURLYWETBULBTEMPF      75119 non-null  float32\n",
      " 3   HOURLYDewPointTempF     75119 non-null  float32\n",
      " 4   HOURLYRelativeHumidity  75119 non-null  float32\n",
      " 5   HOURLYWindSpeed         75119 non-null  float32\n",
      " 6   HOURLYWindDirection     75119 non-null  float32\n",
      " 7   HOURLYStationPressure   75119 non-null  float32\n",
      " 8   HOURLYPrecip            75119 non-null  float32\n",
      " 9   HOURLYAltimeterSetting  75119 non-null  float32\n",
      " 10  HOURLYPressureTendency  75119 non-null  float32\n",
      "dtypes: float32(11)\n",
      "memory usage: 3.7 MB\n",
      "None\n",
      "\n"
     ]
    },
    {
     "data": {
      "text/html": [
       "<div>\n",
       "<style scoped>\n",
       "    .dataframe tbody tr th:only-of-type {\n",
       "        vertical-align: middle;\n",
       "    }\n",
       "\n",
       "    .dataframe tbody tr th {\n",
       "        vertical-align: top;\n",
       "    }\n",
       "\n",
       "    .dataframe thead th {\n",
       "        text-align: right;\n",
       "    }\n",
       "</style>\n",
       "<table border=\"1\" class=\"dataframe\">\n",
       "  <thead>\n",
       "    <tr style=\"text-align: right;\">\n",
       "      <th></th>\n",
       "      <th>HOURLYVISIBILITY</th>\n",
       "      <th>HOURLYDRYBULBTEMPF</th>\n",
       "      <th>HOURLYWETBULBTEMPF</th>\n",
       "      <th>HOURLYDewPointTempF</th>\n",
       "      <th>HOURLYRelativeHumidity</th>\n",
       "      <th>HOURLYWindSpeed</th>\n",
       "      <th>HOURLYWindDirection</th>\n",
       "      <th>HOURLYStationPressure</th>\n",
       "      <th>HOURLYPrecip</th>\n",
       "      <th>HOURLYAltimeterSetting</th>\n",
       "      <th>HOURLYPressureTendency</th>\n",
       "    </tr>\n",
       "    <tr>\n",
       "      <th>DATE</th>\n",
       "      <th></th>\n",
       "      <th></th>\n",
       "      <th></th>\n",
       "      <th></th>\n",
       "      <th></th>\n",
       "      <th></th>\n",
       "      <th></th>\n",
       "      <th></th>\n",
       "      <th></th>\n",
       "      <th></th>\n",
       "      <th></th>\n",
       "    </tr>\n",
       "  </thead>\n",
       "  <tbody>\n",
       "    <tr>\n",
       "      <th>2010-01-01 01:00:00</th>\n",
       "      <td>6.0</td>\n",
       "      <td>33.0</td>\n",
       "      <td>32.0</td>\n",
       "      <td>31.0</td>\n",
       "      <td>92.0</td>\n",
       "      <td>0.0</td>\n",
       "      <td>0.0</td>\n",
       "      <td>29.969999</td>\n",
       "      <td>0.01</td>\n",
       "      <td>29.990000</td>\n",
       "      <td>8.0</td>\n",
       "    </tr>\n",
       "    <tr>\n",
       "      <th>2010-01-01 02:00:00</th>\n",
       "      <td>6.0</td>\n",
       "      <td>33.0</td>\n",
       "      <td>33.0</td>\n",
       "      <td>32.0</td>\n",
       "      <td>96.0</td>\n",
       "      <td>0.0</td>\n",
       "      <td>0.0</td>\n",
       "      <td>29.969999</td>\n",
       "      <td>0.02</td>\n",
       "      <td>29.990000</td>\n",
       "      <td>8.0</td>\n",
       "    </tr>\n",
       "    <tr>\n",
       "      <th>2010-01-01 03:00:00</th>\n",
       "      <td>5.0</td>\n",
       "      <td>33.0</td>\n",
       "      <td>33.0</td>\n",
       "      <td>32.0</td>\n",
       "      <td>96.0</td>\n",
       "      <td>0.0</td>\n",
       "      <td>0.0</td>\n",
       "      <td>29.969999</td>\n",
       "      <td>0.00</td>\n",
       "      <td>29.990000</td>\n",
       "      <td>8.0</td>\n",
       "    </tr>\n",
       "    <tr>\n",
       "      <th>2010-01-01 04:00:00</th>\n",
       "      <td>5.0</td>\n",
       "      <td>33.0</td>\n",
       "      <td>33.0</td>\n",
       "      <td>32.0</td>\n",
       "      <td>96.0</td>\n",
       "      <td>0.0</td>\n",
       "      <td>0.0</td>\n",
       "      <td>29.950001</td>\n",
       "      <td>0.00</td>\n",
       "      <td>29.969999</td>\n",
       "      <td>8.0</td>\n",
       "    </tr>\n",
       "    <tr>\n",
       "      <th>2010-01-01 05:00:00</th>\n",
       "      <td>5.0</td>\n",
       "      <td>33.0</td>\n",
       "      <td>32.0</td>\n",
       "      <td>31.0</td>\n",
       "      <td>92.0</td>\n",
       "      <td>0.0</td>\n",
       "      <td>0.0</td>\n",
       "      <td>29.930000</td>\n",
       "      <td>0.00</td>\n",
       "      <td>29.950001</td>\n",
       "      <td>8.0</td>\n",
       "    </tr>\n",
       "  </tbody>\n",
       "</table>\n",
       "</div>"
      ],
      "text/plain": [
       "                     HOURLYVISIBILITY  HOURLYDRYBULBTEMPF  HOURLYWETBULBTEMPF  \\\n",
       "DATE                                                                            \n",
       "2010-01-01 01:00:00               6.0                33.0                32.0   \n",
       "2010-01-01 02:00:00               6.0                33.0                33.0   \n",
       "2010-01-01 03:00:00               5.0                33.0                33.0   \n",
       "2010-01-01 04:00:00               5.0                33.0                33.0   \n",
       "2010-01-01 05:00:00               5.0                33.0                32.0   \n",
       "\n",
       "                     HOURLYDewPointTempF  HOURLYRelativeHumidity  \\\n",
       "DATE                                                               \n",
       "2010-01-01 01:00:00                 31.0                    92.0   \n",
       "2010-01-01 02:00:00                 32.0                    96.0   \n",
       "2010-01-01 03:00:00                 32.0                    96.0   \n",
       "2010-01-01 04:00:00                 32.0                    96.0   \n",
       "2010-01-01 05:00:00                 31.0                    92.0   \n",
       "\n",
       "                     HOURLYWindSpeed  HOURLYWindDirection  \\\n",
       "DATE                                                        \n",
       "2010-01-01 01:00:00              0.0                  0.0   \n",
       "2010-01-01 02:00:00              0.0                  0.0   \n",
       "2010-01-01 03:00:00              0.0                  0.0   \n",
       "2010-01-01 04:00:00              0.0                  0.0   \n",
       "2010-01-01 05:00:00              0.0                  0.0   \n",
       "\n",
       "                     HOURLYStationPressure  HOURLYPrecip  \\\n",
       "DATE                                                       \n",
       "2010-01-01 01:00:00              29.969999          0.01   \n",
       "2010-01-01 02:00:00              29.969999          0.02   \n",
       "2010-01-01 03:00:00              29.969999          0.00   \n",
       "2010-01-01 04:00:00              29.950001          0.00   \n",
       "2010-01-01 05:00:00              29.930000          0.00   \n",
       "\n",
       "                     HOURLYAltimeterSetting  HOURLYPressureTendency  \n",
       "DATE                                                                 \n",
       "2010-01-01 01:00:00               29.990000                     8.0  \n",
       "2010-01-01 02:00:00               29.990000                     8.0  \n",
       "2010-01-01 03:00:00               29.990000                     8.0  \n",
       "2010-01-01 04:00:00               29.969999                     8.0  \n",
       "2010-01-01 05:00:00               29.950001                     8.0  "
      ]
     },
     "execution_count": 19,
     "metadata": {},
     "output_type": "execute_result"
    }
   ],
   "source": [
    "print(hourly_data.info())\n",
    "print()\n",
    "hourly_data.head()"
   ]
  },
  {
   "cell_type": "code",
   "execution_count": 20,
   "metadata": {
    "papermill": {
     "duration": 0.130511,
     "end_time": "2020-06-23T18:39:52.708622",
     "exception": false,
     "start_time": "2020-06-23T18:39:52.578111",
     "status": "completed"
    },
    "tags": []
   },
   "outputs": [],
   "source": [
    "# Transform HOURLYWindDirection into a cyclical variable using sin and cos transforms\n",
    "hourly_data['HOURLYWindDirectionSin'] = np.sin(hourly_data['HOURLYWindDirection'] * (2. * np.pi / 360))\n",
    "hourly_data['HOURLYWindDirectionCos'] = np.cos(hourly_data['HOURLYWindDirection'] * (2. * np.pi / 360))\n",
    "hourly_data.drop(['HOURLYWindDirection'], axis=1, inplace=True)"
   ]
  },
  {
   "cell_type": "code",
   "execution_count": 21,
   "metadata": {
    "papermill": {
     "duration": 0.264309,
     "end_time": "2020-06-23T18:39:53.195280",
     "exception": false,
     "start_time": "2020-06-23T18:39:52.930971",
     "status": "completed"
    },
    "tags": []
   },
   "outputs": [],
   "source": [
    "# Transform HOURLYPressureTendency into 3 dummy variables based on NOAA documentation\n",
    "hourly_data['HOURLYPressureTendencyIncr'] =\\\n",
    "    [1.0 if x in [0, 1, 2, 3]\n",
    "        else 0.0 for x in hourly_data['HOURLYPressureTendency']]  # noqa 0 through 3 indicates an increase in pressure over previous 3 hours\n",
    "hourly_data['HOURLYPressureTendencyDecr'] =\\\n",
    "    [1.0 if x in [5, 6, 7, 8]\n",
    "     else 0.0 for x in hourly_data['HOURLYPressureTendency']]  # noqa 5 through 8 indicates a decrease over previous 3 hours\n",
    "hourly_data['HOURLYPressureTendencyConst'] =\\\n",
    "    [1.0 if x == 4\n",
    "     else 0.0 for x in hourly_data['HOURLYPressureTendency']]  # noqa 4 indicates no change during previous 3 hours\n",
    "hourly_data.drop(['HOURLYPressureTendency'], axis=1, inplace=True)\n",
    "hourly_data['HOURLYPressureTendencyIncr'] =\\\n",
    "    hourly_data['HOURLYPressureTendencyIncr'].astype(('float32'))\n",
    "hourly_data['HOURLYPressureTendencyDecr'] =\\\n",
    "    hourly_data['HOURLYPressureTendencyDecr'].astype(('float32'))\n",
    "hourly_data['HOURLYPressureTendencyConst'] =\\\n",
    "    hourly_data['HOURLYPressureTendencyConst'].astype(('float32'))"
   ]
  },
  {
   "cell_type": "code",
   "execution_count": null,
   "metadata": {
    "papermill": {
     "duration": 0.104134,
     "end_time": "2020-06-23T18:39:53.581955",
     "exception": false,
     "start_time": "2020-06-23T18:39:53.477821",
     "status": "completed"
    },
    "tags": []
   },
   "outputs": [],
   "source": [
    "hourly_data.columns"
   ]
  },
  {
   "cell_type": "code",
   "execution_count": 23,
   "metadata": {
    "papermill": {
     "duration": 0.094553,
     "end_time": "2020-06-23T18:39:53.766644",
     "exception": false,
     "start_time": "2020-06-23T18:39:53.672091",
     "status": "completed"
    },
    "tags": []
   },
   "outputs": [],
   "source": [
    "# define the new column names\n",
    "columns_new_name = [\n",
    "    'visibility',\n",
    "    'dry_bulb_temp_f',\n",
    "    'wet_bulb_temp_f',\n",
    "    'dew_point_temp_f',\n",
    "    'relative_humidity',\n",
    "    'wind_speed',\n",
    "    'station_pressure',\n",
    "    'sea_level_pressure',\n",
    "    'precip',\n",
    "    'altimeter_setting',\n",
    "    'wind_direction_sin',\n",
    "    'wind_direction_cos',\n",
    "    'pressure_tendency_incr',\n",
    "    'pressure_tendency_decr',\n",
    "    'pressure_tendency_const'\n",
    "]\n",
    "\n",
    "columns_name_map =\\\n",
    "    {c: columns_new_name[i] for i, c in enumerate(hourly_data.columns)}\n",
    "\n",
    "hourly_data_renamed = hourly_data.rename(columns=columns_name_map)"
   ]
  },
  {
   "cell_type": "code",
   "execution_count": null,
   "metadata": {
    "papermill": {
     "duration": 0.181441,
     "end_time": "2020-06-23T18:39:54.052044",
     "exception": false,
     "start_time": "2020-06-23T18:39:53.870603",
     "status": "completed"
    },
    "tags": []
   },
   "outputs": [],
   "source": [
    "print(hourly_data_renamed.info())\n",
    "print()\n",
    "hourly_data_renamed.head()"
   ]
  },
  {
   "cell_type": "code",
   "execution_count": 25,
   "metadata": {
    "papermill": {
     "duration": 0.136374,
     "end_time": "2020-06-23T18:39:54.265600",
     "exception": false,
     "start_time": "2020-06-23T18:39:54.129226",
     "status": "completed"
    },
    "tags": []
   },
   "outputs": [
    {
     "name": "stdout",
     "output_type": "stream",
     "text": [
      "# of megabytes held by dataframe: 4.81\n",
      "# of features: 14\n",
      "# of observations: 75119\n",
      "Start date: 2010-01-01 01:00:00\n",
      "End date: 2018-07-27 23:00:00\n",
      "# of days: 3129\n",
      "# of months: 104.3\n",
      "# of years: 8.57\n"
     ]
    }
   ],
   "source": [
    "# Explore some general information about the dataset\n",
    "print('# of megabytes held by dataframe: {}'.format(\n",
    "      str(round(sys.getsizeof(hourly_data_renamed) / 1000000, 2))))\n",
    "print('# of features: {}'.format(str(hourly_data_renamed.shape[1])))\n",
    "print('# of observations: {}'.format(str(hourly_data_renamed.shape[0])))\n",
    "print('Start date: {}'.format(str(hourly_data_renamed.index[0])))\n",
    "print('End date: {}'.format(str(hourly_data_renamed.index[-1])))\n",
    "print('# of days: {}'.format(\n",
    "      str((hourly_data_renamed.index[-1] - hourly_data_renamed.index[0]).days)))\n",
    "print('# of months: {}'.format(\n",
    "      str(round((hourly_data_renamed.index[-1] - hourly_data_renamed.index[0]).days / 30, 2))))\n",
    "print('# of years: {}'.format(\n",
    "      str(round((hourly_data_renamed.index[-1] - hourly_data_renamed.index[0]).days / 365, 2))))"
   ]
  },
  {
   "cell_type": "markdown",
   "metadata": {
    "papermill": {
     "duration": 0.092822,
     "end_time": "2020-06-23T18:39:54.484105",
     "exception": false,
     "start_time": "2020-06-23T18:39:54.391283",
     "status": "completed"
    },
    "tags": []
   },
   "source": [
    "<a id=\"cell10\"></a>\n",
    "\n",
    "### 3. Save the Cleaned Data\n",
    "\n",
    "Finally, we save the cleaned dataset as a Project asset for later re-use. You should see an output like the one below if successful:\n",
    "\n",
    "```\n",
    "{'file_name': 'jfk_weather_cleaned.csv',\n",
    " 'message': 'File saved to project storage.',\n",
    " 'bucket_name': 'jfkweatherdata-donotdelete-pr-...',\n",
    " 'asset_id': '...'}\n",
    "```\n",
    "\n",
    "**Note**: In order for this step to work, your project token (see the first cell of this notebook) must have `Editor` role. By default this will overwrite any existing file."
   ]
  },
  {
   "cell_type": "code",
   "execution_count": 27,
   "metadata": {
    "papermill": {
     "duration": 3.476652,
     "end_time": "2020-06-23T18:39:58.038092",
     "exception": false,
     "start_time": "2020-06-23T18:39:54.561440",
     "status": "completed"
    },
    "tags": []
   },
   "outputs": [],
   "source": [
    "hourly_data_renamed.to_csv(\n",
    "    \"jfk_weather_cleaned.csv\",\n",
    "    float_format='%g')"
   ]
  }
 ],
 "metadata": {
  "kernelspec": {
   "display_name": "Python 3.11.4 64-bit ('3.11.4')",
   "language": "python",
   "name": "python3"
  },
  "language_info": {
   "codemirror_mode": {
    "name": "ipython",
    "version": 3
   },
   "file_extension": ".py",
   "mimetype": "text/x-python",
   "name": "python",
   "nbconvert_exporter": "python",
   "pygments_lexer": "ipython3",
   "version": "3.11.4"
  },
  "papermill": {
   "duration": 38.709418,
   "end_time": "2020-06-23T18:39:58.863383",
   "environment_variables": {},
   "exception": null,
   "input_path": "Part 1 - Data Cleaning.ipynb",
   "output_path": "Part 1 - Data Cleaning-output.ipynb",
   "parameters": {},
   "start_time": "2020-06-23T18:39:20.153965",
   "version": "2.1.1"
  },
  "vscode": {
   "interpreter": {
    "hash": "f2b2f3dfadbf76413edfd6c5a6301e75d39341db933b18ac2b942d0a1e95f417"
   }
  }
 },
 "nbformat": 4,
 "nbformat_minor": 4
}
